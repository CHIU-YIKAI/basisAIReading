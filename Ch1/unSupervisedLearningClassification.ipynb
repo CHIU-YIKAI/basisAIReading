{
 "cells": [
  {
   "cell_type": "code",
   "execution_count": 9,
   "id": "asian-separate",
   "metadata": {},
   "outputs": [],
   "source": [
    "from sklearn.datasets import load_wine\n",
    "data= load_wine()"
   ]
  },
  {
   "cell_type": "code",
   "execution_count": 10,
   "id": "strong-conference",
   "metadata": {},
   "outputs": [],
   "source": [
    "X=data.data[:,[0,9]]"
   ]
  },
  {
   "cell_type": "code",
   "execution_count": 11,
   "id": "stainless-conservation",
   "metadata": {},
   "outputs": [],
   "source": [
    "from sklearn.cluster import KMeans\n",
    "n_clusters =3\n",
    "model=KMeans(n_clusters=n_clusters)"
   ]
  },
  {
   "cell_type": "code",
   "execution_count": 12,
   "id": "nutritional-barbados",
   "metadata": {},
   "outputs": [],
   "source": [
    "pred = model.fit_predict(X)"
   ]
  }
 ],
 "metadata": {
  "kernelspec": {
   "display_name": "Python 3",
   "language": "python",
   "name": "python3"
  },
  "language_info": {
   "codemirror_mode": {
    "name": "ipython",
    "version": 3
   },
   "file_extension": ".py",
   "mimetype": "text/x-python",
   "name": "python",
   "nbconvert_exporter": "python",
   "pygments_lexer": "ipython3",
   "version": "3.9.1"
  }
 },
 "nbformat": 4,
 "nbformat_minor": 5
}
